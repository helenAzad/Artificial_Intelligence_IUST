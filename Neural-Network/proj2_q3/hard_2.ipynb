{
  "cells": [
    {
      "cell_type": "code",
      "execution_count": null,
      "metadata": {
        "id": "zhYYOhZeUWHn"
      },
      "outputs": [],
      "source": [
        "import numpy as np\n",
        "import matplotlib.pyplot as plt\n",
        "from keras.models import Sequential\n",
        "from keras.layers import Dense, Dropout\n",
        "from keras.optimizers import Adam\n",
        "\n",
        "def function(x):\n",
        "    return 2* x**3 - 3*x**2 - 7  np.random.randint(-10, 10, size=1)\n",
        "np.random.seed(0)\n",
        "X_train = np.random.uniform(-8, 8, 2000)\n",
        "y_train = function(X_train)\n",
        "model = Sequential()\n",
        "model.add(Dense(128, activation='relu' , input_dim=1))\n",
        "model.add(Dropout(0.5))\n",
        "model.add(Dense(256, activation='relu'))\n",
        "model.add(Dropout(0.5))\n",
        "model.add(Dense(128, activation='relu'))\n",
        "model.add(Dropout(0.5))\n",
        "model.add(Dense(64, activation='relu'))\n",
        "model.add(Dense(units=1, activation='linear'))\n",
        "\n",
        "opt = Adam(learning_rate=0.001)\n",
        "model.compile(optimizer=opt, loss='mean_squared_error')\n",
        "\n",
        "model.fit(X_train, y_train, epochs=400, batch_size=40, validation_split=0.2)\n",
        "\n",
        "X_test = np.random.uniform(-8, 8, 500)\n",
        "y_test = function(X_test)\n",
        "predictions = model.predict(X_test)\n",
        "mse = model.evaluate(X_test, y_test, verbose=0)\n",
        "print(f'Mean Squared Error: {mse:.2f}')\n",
        "plt.scatter(X_test, y_test, label='Actual', color = 'b')\n",
        "plt.scatter(X_test, predictions, label='Predicted', marker='x')\n",
        "plt.legend()\n",
        "plt.show()"
      ]
    }
  ],
  "metadata": {
    "colab": {
      "provenance": []
    },
    "kernelspec": {
      "display_name": "Python 3",
      "name": "python3"
    },
    "language_info": {
      "name": "python"
    }
  },
  "nbformat": 4,
  "nbformat_minor": 0
}
