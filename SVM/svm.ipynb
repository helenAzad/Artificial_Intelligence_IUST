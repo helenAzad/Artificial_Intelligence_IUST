{
  "cells": [
    {
      "cell_type": "markdown",
      "metadata": {
        "id": "H29uIGEaAg8o"
      },
      "source": [
        "#first part"
      ]
    },
    {
      "cell_type": "markdown",
      "metadata": {
        "id": "i09rOg7VCRns"
      },
      "source": [
        "first sample"
      ]
    },
    {
      "cell_type": "code",
      "execution_count": null,
      "metadata": {
        "id": "7UoubLG-AmQB"
      },
      "outputs": [],
      "source": [
        "from sklearn.datasets import make_classification\n",
        "from sklearn.svm import SVC\n",
        "import numpy as np\n",
        "import pandas as pd\n",
        "import matplotlib.pyplot as plt\n",
        "import seaborn as sns\n",
        "import random\n",
        "from sklearn import svm\n"
      ]
    },
    {
      "cell_type": "code",
      "execution_count": null,
      "metadata": {
        "id": "EmjSe_HCACbR"
      },
      "outputs": [],
      "source": [
        "X, y = make_classification(n_samples=100, n_features=1, n_informative=1,\n",
        "                            n_redundant=0, n_clusters_per_class=1, random_state=42)\n",
        "\n",
        "clf = SVC(kernel='linear')\n",
        "clf.fit(X, y)\n",
        "\n",
        "df = pd.DataFrame({'feature': X.flatten(), 'class': y})\n",
        "sns.scatterplot(x='feature', y='class', hue='class', data=df, palette='Set2')\n"
      ]
    },
    {
      "cell_type": "markdown",
      "metadata": {
        "id": "T34nBreAEaHf"
      },
      "source": [
        "second sample"
      ]
    },
    {
      "cell_type": "code",
      "execution_count": null,
      "metadata": {
        "id": "9g29oPJOEO_G"
      },
      "outputs": [],
      "source": [
        "random = random.sample(range(201), 100)\n",
        "y = [number / 20 for number in random] # 0 to 10\n",
        "x = list(range(0, 100)) # 0 to 100\n"
      ]
    },
    {
      "cell_type": "markdown",
      "metadata": {
        "id": "IPX42YmRKHEd"
      },
      "source": [
        "third sample"
      ]
    },
    {
      "cell_type": "markdown",
      "metadata": {
        "id": "3Flk0xGwKNeg"
      },
      "source": [
        "forth sample"
      ]
    },
    {
      "cell_type": "code",
      "execution_count": null,
      "metadata": {
        "id": "YG-EwthuJvF8"
      },
      "outputs": [],
      "source": [
        "class RandomSVM:\n",
        "    def __init__(self, n_samples):\n",
        "        self.n_samples = n_samples\n",
        "        self.X = np.random.randn(n_samples, 1)\n",
        "        self.y = np.random.choice([-1, 1], size=n_samples)\n",
        "\n",
        "    def get_data(self):\n",
        "        return self.X, self.y\n",
        "\n",
        "svm = RandomSVM(n_samples=100)\n",
        "X, y = svm.get_data()\n",
        "\n",
        "model = SVC(kernel='linear')\n",
        "model.fit(X, y)\n",
        "# Plot the data points\n",
        "plt.scatter(X, y, c=y)\n",
        "plt.xlabel('Feature 1')\n",
        "plt.ylabel('Feature 2')\n",
        "plt.title('Random SVM Data')\n",
        "plt.show()\n"
      ]
    },
    {
      "cell_type": "markdown",
      "metadata": {
        "id": "RBVt4D9_PN_B"
      },
      "source": [
        "fifth sample"
      ]
    },
    {
      "cell_type": "code",
      "execution_count": null,
      "metadata": {
        "id": "sfGLBy_mJ5ed"
      },
      "outputs": [],
      "source": [
        "\n",
        "svm1 = RandomSVM(n_samples=100)\n",
        "X, y = svm1.get_data()\n",
        "\n",
        "model = SVC(kernel='linear')\n",
        "model.fit(X, y)\n",
        "# Plot the data points\n",
        "plt.scatter(X, y, c=y)\n",
        "plt.xlabel('Feature 1')\n",
        "plt.ylabel('Feature 2')\n",
        "plt.title('Random SVM Data')\n",
        "plt.show()\n",
        "\n"
      ]
    },
    {
      "cell_type": "code",
      "execution_count": null,
      "metadata": {
        "id": "tSgxgSdtPA7-"
      },
      "outputs": [],
      "source": [
        "import numpy as np\n",
        "import matplotlib.pyplot as plt\n",
        "from sklearn import svm\n",
        "from sklearn.datasets import make_blobs\n",
        "from sklearn.datasets import make_circles\n",
        "from sklearn.datasets import make_moons\n",
        "#creating 40 separable points\n",
        "X,y = make_moons(1000,noise=0.07)\n",
        "#fit the model, codn't reqularize for illustation purposes\n",
        "clf = svm.SVC(kernel = 'rbf', C=1000)\n",
        "clf.fit(X,y)\n",
        "plt.scatter(X[:,0],X[:,1], c =y, s = 30,cmap=plt.cm.Paired)\n",
        "#plt.show()\n",
        "#plt the decision function\n",
        "ax = plt.gca()# shib -> finding axes\n",
        "xlim = ax.get_xlim()#show the start point to the end point\n",
        "ylim = ax.get_ylim()\n",
        "print(xlim)\n",
        "print(ylim)\n",
        "#create gird to evaluate model\n",
        "xx = np.linspace(xlim[0], xlim[1], 30)#create 30 part from start poiont to end point\n",
        "yy = np.linspace(ylim[0], ylim[1], 30)\n",
        "# print(xx)\n",
        "# print(yy)\n",
        "YY, XX = np.meshgrid(yy, xx)#create matric -> like a chess\n",
        "print(XX[0])\n",
        "print(YY[0])\n",
        "xy = np.vstack([XX.ravel(),YY.ravel()]).T#compine all of them (1,1),(1,2)\n",
        "Z = clf.decision_function(xy).reshape(XX.shape)\n",
        "#plot decision boundary and margins\n",
        "ax.contour(XX, YY, Z, colors='k', levels=[-1,0,1],alpha=0.5, linestyles=['--','-','--'])\n",
        "#plot support vectors\n",
        "ax.scatter(clf.support_vectors_[:,0],clf.support_vectors_[:,1], s=100, linewidth = 1, facecolors = 'none')\n",
        "plt.show()"
      ]
    },
    {
      "cell_type": "code",
      "execution_count": null,
      "metadata": {
        "id": "ONqQnGytml7x"
      },
      "outputs": [],
      "source": [
        "from sklearn.metrics import accuracy_score\n",
        "\n",
        "svm_classifier = SVC(kernel='linear', C=1.0)\n",
        "\n",
        "svm_classifier.fit(X, y)\n",
        "\n",
        "y_pred = svm_classifier.predict(X)\n",
        "\n",
        "accuracy = accuracy_score(y, y_pred)\n",
        "print(f'Accuracy: {accuracy}')\n"
      ]
    },
    {
      "cell_type": "code",
      "execution_count": null,
      "metadata": {
        "id": "kez4v91VqzZr"
      },
      "outputs": [],
      "source": [
        "from sklearn.metrics import accuracy_score\n",
        "\n",
        "svm_classifier = SVC(kernel='sigmoid', C=0.7)\n",
        "\n",
        "svm_classifier.fit(X, y)\n",
        "\n",
        "y_pred = svm_classifier.predict(X)\n",
        "\n",
        "accuracy = accuracy_score(y, y_pred)\n",
        "print(f'Accuracy: {accuracy}')\n"
      ]
    },
    {
      "cell_type": "code",
      "execution_count": null,
      "metadata": {
        "id": "U0De7iIJr1J7"
      },
      "outputs": [],
      "source": [
        "from sklearn.metrics import accuracy_score\n",
        "\n",
        "svm_classifier = SVC(kernel='sigmoid', C=1)\n",
        "\n",
        "svm_classifier.fit(X, y)\n",
        "\n",
        "y_pred = svm_classifier.predict(X)\n",
        "\n",
        "accuracy = accuracy_score(y, y_pred)\n",
        "print(f'Accuracy: {accuracy}')\n"
      ]
    },
    {
      "cell_type": "code",
      "execution_count": null,
      "metadata": {
        "id": "pxfnxrHUr35m"
      },
      "outputs": [],
      "source": [
        "from sklearn.metrics import accuracy_score\n",
        "\n",
        "svm_classifier = SVC(kernel='sigmoid', C=0.1)\n",
        "\n",
        "svm_classifier.fit(X, y)\n",
        "\n",
        "y_pred = svm_classifier.predict(X)\n",
        "\n",
        "accuracy = accuracy_score(y, y_pred)\n",
        "print(f'Accuracy: {accuracy}')\n"
      ]
    },
    {
      "cell_type": "code",
      "execution_count": null,
      "metadata": {
        "id": "Oef8-r-Lq-HN"
      },
      "outputs": [],
      "source": [
        "from sklearn.metrics import accuracy_score\n",
        "\n",
        "svm_classifier = SVC(kernel='linear', C=1.0)\n",
        "\n",
        "svm_classifier.fit(X, y)\n",
        "\n",
        "y_pred = svm_classifier.predict(X)\n",
        "\n",
        "accuracy = accuracy_score(y, y_pred)\n",
        "print(f'Accuracy: {accuracy}')\n"
      ]
    },
    {
      "cell_type": "code",
      "execution_count": null,
      "metadata": {
        "id": "P-SFYxJ_rc34"
      },
      "outputs": [],
      "source": [
        "from sklearn.metrics import accuracy_score\n",
        "\n",
        "svm_classifier = SVC(kernel='rbf', C=1.0, gamma=0.1, tol = 0.001, cache_size=200)\n",
        "\n",
        "svm_classifier.fit(X, y)\n",
        "\n",
        "y_pred = svm_classifier.predict(X)\n",
        "\n",
        "accuracy = accuracy_score(y, y_pred)\n",
        "print(f'Accuracy: {accuracy}')\n"
      ]
    },
    {
      "cell_type": "code",
      "execution_count": null,
      "metadata": {
        "id": "wecyY2cPsPLC"
      },
      "outputs": [],
      "source": [
        "from sklearn.metrics import accuracy_score\n",
        "\n",
        "svm_classifier = SVC(kernel='rbf', C=0.2, gamma='scale')\n",
        "svm_classifier.fit(X, y)\n",
        "y_pred = svm_classifier.predict(X)\n",
        "\n",
        "accuracy = accuracy_score(y, y_pred)\n",
        "print(f'Accuracy: {accuracy}')\n"
      ]
    },
    {
      "cell_type": "code",
      "execution_count": null,
      "metadata": {
        "id": "B3L5SV2TrsY6"
      },
      "outputs": [],
      "source": [
        "from sklearn.metrics import accuracy_score\n",
        "\n",
        "svm_classifier = SVC(kernel='rbf', C= 0.6, gamma='scale')\n",
        "svm_classifier.fit(X, y)\n",
        "y_pred = svm_classifier.predict(X)\n",
        "\n",
        "accuracy = accuracy_score(y, y_pred)\n",
        "print(f'Accuracy: {accuracy}')\n"
      ]
    },
    {
      "cell_type": "code",
      "execution_count": null,
      "metadata": {
        "id": "iep1NYQMxUEG"
      },
      "outputs": [],
      "source": [
        "from sklearn.datasets import make_blobs\n",
        "from sklearn.svm import SVC\n",
        "import matplotlib.pyplot as plt\n",
        "\n",
        "X, y = make_blobs(n_samples=500, centers=2, random_state=0)\n",
        "\n",
        "clff = SVC(kernel='linear', C=1.0, gamma=0.7)\n",
        "clff.fit(X, y)\n",
        "\n",
        "plt.figure()\n",
        "plt.scatter(X[:, 0], X[:, 1], c=y)\n",
        "\n",
        "support_vectors = clff.support_vectors_\n",
        "\n",
        "w = clff.coef_\n",
        "b = clff.intercept_[0]\n",
        "print(w[0])\n",
        "decision_boundary = -w[0][0] / w[0][1] * X[:, 0] - b / w[0][1]\n",
        "# decision_boundary = np.expand_dims(decision_boundary, 1)\n",
        "\n",
        "plt.plot(X[:, 0], decision_boundary, color='r')\n",
        "# plt.scatter(support_vectors[:, 0], support_vectors[:, 1], linewidths=2, color='b')\n",
        "\n",
        "plt.show()\n"
      ]
    },
    {
      "cell_type": "code",
      "execution_count": null,
      "metadata": {
        "id": "4kiP_JS7zq0f"
      },
      "outputs": [],
      "source": [
        "!pip install sklearn-contrib-datasets"
      ]
    },
    {
      "cell_type": "code",
      "execution_count": null,
      "metadata": {
        "id": "i5RxTrHUnY65"
      },
      "outputs": [],
      "source": [
        "import numpy as np\n",
        "from sklearn import datasets\n",
        "from sklearn.model_selection import train_test_split\n",
        "from sklearn.svm import SVC\n",
        "from sklearn.metrics import accuracy_score\n",
        "mnist = datasets.load_digits()\n",
        "X_train, X_test, y_train, y_test = train_test_split(mnist.data, mnist.target, test_size=0.2)\n",
        "svm_classifier = SVC(kernel='linear', C=1.0)\n",
        "svm_classifier.fit(X_train, y_train)\n",
        "y_pred = svm_classifier.predict(X_test)\n",
        "accuracy = accuracy_score(y_test, y_pred)\n",
        "print(\"Accuracy:\", accuracy)\n"
      ]
    },
    {
      "cell_type": "code",
      "execution_count": null,
      "metadata": {
        "id": "tFcDPdHbxMcX"
      },
      "outputs": [],
      "source": [
        "import numpy as np\n",
        "from sklearn import datasets\n",
        "from sklearn.model_selection import train_test_split\n",
        "from sklearn.svm import SVC\n",
        "from sklearn.metrics import accuracy_score\n",
        "mnist = datasets.load_digits()\n",
        "X_train, X_test, y_train, y_test = train_test_split(mnist.data, mnist.target, test_size=0.2)\n",
        "svm_classifier = SVC(kernel='linear', C=0.1)\n",
        "svm_classifier.fit(X_train, y_train)\n",
        "y_pred = svm_classifier.predict(X_test)\n",
        "accuracy = accuracy_score(y_test, y_pred)\n",
        "print(\"Accuracy:\", accuracy)\n"
      ]
    },
    {
      "cell_type": "code",
      "execution_count": null,
      "metadata": {
        "id": "a4O7yXaKxRsF"
      },
      "outputs": [],
      "source": [
        "import numpy as np\n",
        "from sklearn import datasets\n",
        "from sklearn.model_selection import train_test_split\n",
        "from sklearn.svm import SVC\n",
        "from sklearn.metrics import accuracy_score\n",
        "mnist = datasets.load_digits()\n",
        "X_train, X_test, y_train, y_test = train_test_split(mnist.data, mnist.target, test_size=0.2)\n",
        "svm_classifier = SVC(kernel='sigmoid', C=0.1)\n",
        "svm_classifier.fit(X_train, y_train)\n",
        "y_pred = svm_classifier.predict(X_test)\n",
        "accuracy = accuracy_score(y_test, y_pred)\n",
        "print(\"Accuracy:\", accuracy)\n"
      ]
    },
    {
      "cell_type": "code",
      "execution_count": null,
      "metadata": {
        "id": "2xEFmbKGz7ul"
      },
      "outputs": [],
      "source": [
        "import numpy as np\n",
        "from sklearn import datasets\n",
        "from sklearn.model_selection import train_test_split\n",
        "from sklearn.svm import SVC\n",
        "from sklearn.metrics import accuracy_score\n",
        "mnist = datasets.load_digits()\n",
        "X_train, X_test, y_train, y_test = train_test_split(mnist.data, mnist.target, test_size=0.2)\n",
        "svm_classifier = SVC(kernel='sigmoid', C=1)\n",
        "svm_classifier.fit(X_train, y_train)\n",
        "y_pred = svm_classifier.predict(X_test)\n",
        "accuracy = accuracy_score(y_test, y_pred)\n",
        "print(\"Accuracy:\", accuracy)\n"
      ]
    },
    {
      "cell_type": "code",
      "execution_count": null,
      "metadata": {
        "id": "kshoJD8a0kMk"
      },
      "outputs": [],
      "source": [
        "import numpy as np\n",
        "from sklearn import datasets\n",
        "from sklearn.model_selection import train_test_split\n",
        "from sklearn.svm import SVC\n",
        "from sklearn.metrics import accuracy_score\n",
        "mnist = datasets.load_digits()\n",
        "X_train, X_test, y_train, y_test = train_test_split(mnist.data, mnist.target, test_size=0.2)\n",
        "svm_classifier = SVC(kernel='sigmoid', C=1, cache_size=900)\n",
        "svm_classifier.fit(X_train, y_train)\n",
        "y_pred = svm_classifier.predict(X_test)\n",
        "accuracy = accuracy_score(y_test, y_pred)\n",
        "print(\"Accuracy:\", accuracy)\n"
      ]
    },
    {
      "cell_type": "code",
      "execution_count": null,
      "metadata": {
        "id": "WUMOaE3S1G9X"
      },
      "outputs": [],
      "source": [
        "import numpy as np\n",
        "from sklearn import datasets\n",
        "from sklearn.model_selection import train_test_split\n",
        "from sklearn.svm import SVC\n",
        "from sklearn.metrics import accuracy_score\n",
        "mnist = datasets.load_digits()\n",
        "X_train, X_test, y_train, y_test = train_test_split(mnist.data, mnist.target, test_size=0.2)\n",
        "svm_classifier = SVC(kernel='rbf', C=1, cache_size=900)\n",
        "svm_classifier.fit(X_train, y_train)\n",
        "y_pred = svm_classifier.predict(X_test)\n",
        "accuracy = accuracy_score(y_test, y_pred)\n",
        "print(\"Accuracy:\", accuracy)\n"
      ]
    },
    {
      "cell_type": "code",
      "execution_count": null,
      "metadata": {
        "id": "LcLANhDb0Au9"
      },
      "outputs": [],
      "source": [
        "import numpy as np\n",
        "from sklearn import datasets\n",
        "from sklearn.model_selection import train_test_split\n",
        "from sklearn.svm import SVC\n",
        "from sklearn.metrics import accuracy_score\n",
        "mnist = datasets.load_digits()\n",
        "X_train, X_test, y_train, y_test = train_test_split(mnist.data, mnist.target, test_size=0.2)\n",
        "svm_classifier = SVC(kernel='rbf', C=0.1, cache_size=900, gamma = 1)\n",
        "svm_classifier.fit(X_train, y_train)\n",
        "y_pred = svm_classifier.predict(X_test)\n",
        "accuracy = accuracy_score(y_test, y_pred)\n",
        "print(\"Accuracy:\", accuracy)\n"
      ]
    },
    {
      "cell_type": "markdown",
      "metadata": {
        "id": "HGHTyXb6Cko5"
      },
      "source": [
        "##بخش سوم"
      ]
    },
    {
      "cell_type": "code",
      "execution_count": null,
      "metadata": {
        "id": "d9c9c2E9Cnxn"
      },
      "outputs": [],
      "source": [
        "from keras.datasets import cifar10\n",
        "\n",
        "# Load the CIFAR-10 dataset\n",
        "(x_train, y_train), (x_test, y_test) = cifar10.load_data()\n",
        "\n",
        "# Print the shape of the training and testing datasets\n",
        "print(\"Training data shape:\", x_train.shape)\n",
        "print(\"Training labels shape:\", y_train.shape)\n",
        "print(\"Testing data shape:\", x_test.shape)\n",
        "print(\"Testing labels shape:\", y_test.shape)\n"
      ]
    },
    {
      "cell_type": "code",
      "execution_count": null,
      "metadata": {
        "id": "SB-tzzS8C41s"
      },
      "outputs": [],
      "source": [
        "from sklearn.svm import SVC\n",
        "from sklearn.metrics import accuracy_score\n",
        "from sklearn.preprocessing import StandardScaler\n",
        "\n",
        "# Load the CIFAR-10 dataset\n",
        "(x_train, y_train), (x_test, y_test) = cifar10.load_data()\n",
        "\n",
        "# Flatten the images\n",
        "x_train = x_train.reshape(x_train.shape[0], -1)\n",
        "x_test = x_test.reshape(x_test.shape[0], -1)\n",
        "\n",
        "# Scale the data\n",
        "scaler = StandardScaler()\n",
        "x_train = scaler.fit_transform(x_train)\n",
        "x_test = scaler.transform(x_test)\n",
        "\n"
      ]
    },
    {
      "cell_type": "code",
      "source": [
        "# Train the SVM model\n",
        "svm = SVC(kernel='linear')\n",
        "svm.fit(x_train, y_train)\n",
        "\n",
        "# Evaluate the model on the test set\n",
        "y_pred = svm.predict(x_test)\n",
        "accuracy = accuracy_score(y_test, y_pred)\n",
        "print(\"Accuracy:\", accuracy)\n"
      ],
      "metadata": {
        "colab": {
          "base_uri": "https://localhost:8080/"
        },
        "id": "ViBZwc9-P_1h",
        "outputId": "f2f77da3-53f5-4294-a937-f7810fa78d10"
      },
      "execution_count": null,
      "outputs": [
        {
          "metadata": {
            "tags": null
          },
          "name": "stderr",
          "output_type": "stream",
          "text": [
            "/usr/local/lib/python3.10/dist-packages/sklearn/utils/validation.py:1143: DataConversionWarning: A column-vector y was passed when a 1d array was expected. Please change the shape of y to (n_samples, ), for example using ravel().\n",
            "  y = column_or_1d(y, warn=True)\n"
          ]
        }
      ]
    },
    {
      "cell_type": "code",
      "source": [
        "import numpy as np\n",
        "import matplotlib.pyplot as plt\n",
        "from sklearn import svm\n",
        "from sklearn.datasets import make_blobs\n",
        "from sklearn.datasets import make_circles\n",
        "X,y = make_circles(500,factor=0.5,noise=0.05)\n",
        "clf = svm.SVC(kernel = 'rbf', C=1000)\n",
        "clf.fit(X,y)\n",
        "plt.scatter(X[:,0],X[:,1], c =y, s = 30,cmap=plt.cm.Paired)\n",
        "#plt the decision function\n",
        "ax = plt.gca()# shib -> finding axes\n",
        "xlim = ax.get_xlim()#show the start point to the end point\n",
        "ylim = ax.get_ylim()\n",
        "#create gird to evaluate model\n",
        "xx = np.linspace(xlim[0], xlim[1], 30)\n",
        "yy = np.linspace(ylim[0], ylim[1], 30)\n",
        "YY, XX = np.meshgrid(yy, xx)#create matric #\n",
        "# print(XX[0])\n",
        "# print(YY[0])\n",
        "xy = np.vstack([XX.ravel(),YY.ravel()]).T#compine all of them (1,1),(1,2)\n",
        "Z = clf.decision_function(xy).reshape(XX.shape)\n",
        "#plot decision boundary and margins\n",
        "ax.contour(XX, YY, Z, colors='k', levels=[-1,0,1],alpha=0.5, linestyles=['--','-','--'])\n",
        "#plot support vectors\n",
        "ax.scatter(clf.support_vectors_[:,0],clf.support_vectors_[:,1], s=100, linewidth = 1, facecolors = 'none')\n",
        "plt.show()"
      ],
      "metadata": {
        "id": "v6Bv8kSS7sam"
      },
      "execution_count": null,
      "outputs": []
    },
    {
      "cell_type": "code",
      "source": [],
      "metadata": {
        "id": "-mMkTQ49d0Bv"
      },
      "execution_count": null,
      "outputs": []
    },
    {
      "cell_type": "code",
      "source": [
        "import pandas as pd\n",
        "from sklearn import svm\n",
        "from sklearn.model_selection import GridSearchCV\n",
        "import os\n",
        "from skimage.transform import resize\n",
        "from skimage.io import imread\n",
        "import numpy as np\n",
        "from sklearn.model_selection import train_test_split\n",
        "from sklearn.metrics import classification_report\n",
        "from sklearn.model_selection import cross_val_score\n",
        "from sklearn.decomposition import PCA"
      ],
      "metadata": {
        "id": "KEA7KtD0d0FC"
      },
      "execution_count": null,
      "outputs": []
    },
    {
      "cell_type": "code",
      "source": [],
      "metadata": {
        "id": "ryCgXlnYeRZ5"
      },
      "execution_count": null,
      "outputs": []
    },
    {
      "cell_type": "code",
      "source": [
        "flat_data_arr=[]\n",
        "target_arr=[]\n",
        "datadir='D:\\\\term 7\\\\AI\\\\images'\n",
        "Categories = ['Cars' ,  'Cricket ball']\n",
        "for i in Categories:\n",
        "  print(f'loading... category : {i}')\n",
        "  path=os.path.join(datadir,i)\n",
        "  for img in os.listdir(path):\n",
        "    img_array=imread(os.path.join(path,img) , as_gray=True)\n",
        "    img_resized=resize(img_array,(150,150,3))\n",
        "    flat_data_arr.append(img_resized.flatten())\n",
        "    target_arr.append(Categories.index(i))\n",
        "  print(f'loaded category:{i} successfully')\n",
        "flat_data=np.array(flat_data_arr)\n",
        "target=np.array(target_arr)\n",
        "df=pd.DataFrame(flat_data)\n",
        "df['Target']=target\n",
        "df"
      ],
      "metadata": {
        "id": "vQGq0RvueRdR"
      },
      "execution_count": null,
      "outputs": []
    },
    {
      "cell_type": "code",
      "source": [
        "x=df.iloc[:,:-1]\n",
        "y=df.iloc[:,-1]\n",
        "x_train,x_test,y_train,y_test=train_test_split(x,y,test_size=0.20,random_state=77)"
      ],
      "metadata": {
        "id": "tF8hplUeeVDn"
      },
      "execution_count": null,
      "outputs": []
    },
    {
      "cell_type": "code",
      "source": [
        "pca = PCA(n_components = 0.95) # 95 % of the information is all of them!\n",
        "pca.fit(x_train)\n",
        "X_train_pca = pca.transform(x_train)\n",
        "X_test_pca = pca.transform(x_test)\n",
        "X_train_pca_df = pd.DataFrame(X_train_pca)\n",
        "X_test_pca_df = pd.DataFrame(X_test_pca)\n",
        "X_train_pca_df"
      ],
      "metadata": {
        "id": "3RJKhjejeYE0"
      },
      "execution_count": null,
      "outputs": []
    },
    {
      "cell_type": "code",
      "source": [
        "X_test_pca_df"
      ],
      "metadata": {
        "id": "NFNkPSrfecz3"
      },
      "execution_count": null,
      "outputs": []
    },
    {
      "cell_type": "code",
      "source": [
        "param_grid={'C':[0.1,1,10,100],'gamma':[0.0001,0.001,0.1,1],'kernel':['rbf','poly','linear']}\n",
        "svc=svm.SVC(probability=True)\n",
        "model=GridSearchCV(svc,param_grid)\n",
        "model.fit(X_train_pca_df,y_train)\n",
        "model.best_params_"
      ],
      "metadata": {
        "id": "Uvcu83fnef1Q"
      },
      "execution_count": null,
      "outputs": []
    },
    {
      "cell_type": "code",
      "source": [
        "param_grid={'C':[10],'gamma':[0.0001],'kernel':['poly']}\n",
        "svc=svm.SVC(probability=True)\n",
        "model=GridSearchCV(svc,param_grid)\n",
        "model.fit(X_train_pca_df,y_train)"
      ],
      "metadata": {
        "id": "as5eLVWBejPG"
      },
      "execution_count": null,
      "outputs": []
    },
    {
      "cell_type": "code",
      "source": [
        "param_grid_second = {'C':[ 10 , 15 , 20 , 5] , 'gamma':[0.00005 , 0.0001 ,0.00015 ,0.0002 ] , 'kernel':['poly']}\n",
        "svc_second=svm.SVC(probability=True)\n",
        "model_grid_second = GridSearchCV(svc_second,param_grid_second)\n",
        "model_grid_second.fit(X_train_pca_df, y_train)\n",
        "model_grid_second.best_params_"
      ],
      "metadata": {
        "id": "1dR-Ii0iemmN"
      },
      "execution_count": null,
      "outputs": []
    },
    {
      "cell_type": "code",
      "source": [
        "scores = cross_val_score(model_grid_second,X_train_pca_df,y_train,cv=4)\n",
        "print(\"Cross Validation Scores: \", scores)\n",
        "print(\"Average CV Score: \", scores.mean())\n",
        "print(\"Number of CV Scores used in Average: \", len(scores))"
      ],
      "metadata": {
        "id": "bttXJ41yeo8u"
      },
      "execution_count": null,
      "outputs": []
    },
    {
      "cell_type": "code",
      "source": [
        "y_pred=model_grid_second.predict(X_test_pca_df)\n",
        "print(\"The predicted Data is :\")\n",
        "y_pred"
      ],
      "metadata": {
        "id": "yjyZdpdiesdX"
      },
      "execution_count": null,
      "outputs": []
    },
    {
      "cell_type": "code",
      "source": [
        "print(\"The actual data is:\")\n",
        "np.array(y_test)"
      ],
      "metadata": {
        "id": "2PuyKSRwevM4"
      },
      "execution_count": null,
      "outputs": []
    },
    {
      "cell_type": "code",
      "source": [
        "print(classification_report(y_pred,y_test))"
      ],
      "metadata": {
        "id": "CU5_qa1MeyQD"
      },
      "execution_count": null,
      "outputs": []
    }
  ],
  "metadata": {
    "colab": {
      "provenance": [],
      "gpuType": "T4"
    },
    "kernelspec": {
      "display_name": "Python 3",
      "name": "python3"
    },
    "language_info": {
      "name": "python"
    },
    "accelerator": "GPU"
  },
  "nbformat": 4,
  "nbformat_minor": 0
}